{
 "cells": [
  {
   "cell_type": "code",
   "execution_count": 1,
   "metadata": {},
   "outputs": [],
   "source": [
    "import pandas as pd\n",
    "from pathlib import Path"
   ]
  },
  {
   "cell_type": "code",
   "execution_count": 22,
   "metadata": {},
   "outputs": [
    {
     "data": {
      "text/plain": [
       "[WindowsPath('data/mitbih_test.csv'),\n",
       " WindowsPath('data/mitbih_train.csv'),\n",
       " WindowsPath('data/ptbdb_abnormal.csv'),\n",
       " WindowsPath('data/ptbdb_normal.csv')]"
      ]
     },
     "execution_count": 22,
     "metadata": {},
     "output_type": "execute_result"
    }
   ],
   "source": [
    "files = Path('data').glob('*.csv')\n",
    "files = list(files)\n",
    "files"
   ]
  },
  {
   "cell_type": "code",
   "execution_count": 31,
   "metadata": {},
   "outputs": [],
   "source": [
    "for file in files:\n",
    "    df = pd.read_csv(file, header=None)\n",
    "    y = df[187].astype(int)\n",
    "    X = df.loc[:,:186]\n",
    "\n",
    "    base, sub = file.stem.split('_')\n",
    "    fp = Path('data') / base / sub\n",
    "    fp.mkdir(exist_ok=True, parents=True)\n",
    "    \n",
    "    X.to_parquet(fp / \"X.parquet\")\n",
    "    y.to_frame(187).to_parquet(fp / \"y.parquet\")"
   ]
  }
 ],
 "metadata": {
  "kernelspec": {
   "display_name": ".venv",
   "language": "python",
   "name": "python3"
  },
  "language_info": {
   "codemirror_mode": {
    "name": "ipython",
    "version": 3
   },
   "file_extension": ".py",
   "mimetype": "text/x-python",
   "name": "python",
   "nbconvert_exporter": "python",
   "pygments_lexer": "ipython3",
   "version": "3.10.4"
  },
  "orig_nbformat": 4,
  "vscode": {
   "interpreter": {
    "hash": "c05324a210b261fbbd1a64baf0584e0ad70f1d238218badf569ddada97092c20"
   }
  }
 },
 "nbformat": 4,
 "nbformat_minor": 2
}
